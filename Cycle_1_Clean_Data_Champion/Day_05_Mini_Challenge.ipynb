{
  "nbformat": 4,
  "nbformat_minor": 0,
  "metadata": {
    "colab": {
      "provenance": []
    },
    "kernelspec": {
      "name": "python3",
      "display_name": "Python 3"
    },
    "language_info": {
      "name": "python"
    }
  },
  "cells": [
    {
      "cell_type": "code",
      "execution_count": 15,
      "metadata": {
        "colab": {
          "base_uri": "https://localhost:8080/"
        },
        "id": "gkaMwJiSAgh-",
        "outputId": "5667cc51-06cc-4988-c441-11f71e99fd37"
      },
      "outputs": [
        {
          "output_type": "stream",
          "name": "stdout",
          "text": [
            "Top 3 Features:\n",
            " BurnoutLevel           0.757049\n",
            "ManagerSupportScore    0.016488\n",
            "ProductivityScore      0.016377\n",
            "dtype: float64\n",
            "Accuracy with 3 features: 1.0000\n"
          ]
        }
      ],
      "source": [
        "import pandas as pd\n",
        "from sklearn.model_selection import train_test_split\n",
        "from sklearn.ensemble import RandomForestClassifier\n",
        "from sklearn.metrics import accuracy_score\n",
        "\n",
        "df = pd.read_csv('mental_health_workplace_survey.csv')\n",
        "\n",
        "\n",
        "\n",
        "X = df.drop(columns=['BurnoutRisk', 'EmployeeID'])\n",
        "y = df['BurnoutRisk']\n",
        "\n",
        "# Select categorical columns for one-hot encoding\n",
        "categorical_cols = ['Gender', 'Country', 'JobRole', 'Department', 'SalaryRange', 'RemoteWork']\n",
        "\n",
        "# Apply one-hot encoding\n",
        "X = pd.get_dummies(X, columns=categorical_cols, drop_first=True)\n",
        "\n",
        "for col in X.columns:\n",
        "    if X[col].dtype == 'object':\n",
        "        X[col] = pd.to_numeric(X[col], errors='coerce')\n",
        "\n",
        "\n",
        "\n",
        "X_train, X_test, y_train, y_test = train_test_split(X, y, test_size=0.2, random_state=42)\n",
        "\n",
        "# Train a random forest for feature importances\n",
        "model = RandomForestClassifier(random_state=42)\n",
        "model.fit(X_train, y_train)\n",
        "\n",
        "# Get feature importances\n",
        "importances = pd.Series(model.feature_importances_, index=X.columns)\n",
        "top3 = importances.sort_values(ascending=False).head(3)\n",
        "print(\"Top 3 Features:\\n\", top3)\n",
        "\n",
        "# Now train a model with ONLY those 3\n",
        "X_train_top3 = X_train[top3.index]\n",
        "X_test_top3 = X_test[top3.index]\n",
        "\n",
        "minimal_model = RandomForestClassifier(random_state=42)\n",
        "minimal_model.fit(X_train_top3, y_train)\n",
        "y_pred = minimal_model.predict(X_test_top3)\n",
        "\n",
        "accuracy = accuracy_score(y_test, y_pred)\n",
        "print(f\"Accuracy with 3 features: {accuracy:.4f}\")"
      ]
    }
  ]
}